{
  "nbformat": 4,
  "nbformat_minor": 0,
  "metadata": {
    "coursera": {
      "schema_names": [
        "NLPC2-1"
      ]
    },
    "kernelspec": {
      "display_name": "Python 3",
      "language": "python",
      "name": "python3"
    },
    "language_info": {
      "codemirror_mode": {
        "name": "ipython",
        "version": 3
      },
      "file_extension": ".py",
      "mimetype": "text/x-python",
      "name": "python",
      "nbconvert_exporter": "python",
      "pygments_lexer": "ipython3",
      "version": "3.7.1"
    },
    "colab": {
      "name": "Minimum_Edit_Distance.ipynb",
      "provenance": [],
      "include_colab_link": true
    }
  },
  "cells": [
    {
      "cell_type": "markdown",
      "metadata": {
        "id": "view-in-github",
        "colab_type": "text"
      },
      "source": [
        "<a href=\"https://colab.research.google.com/github/Adeelzafar/NLP-Course/blob/main/Minimum_Edit_Distance.ipynb\" target=\"_parent\"><img src=\"https://colab.research.google.com/assets/colab-badge.svg\" alt=\"Open In Colab\"/></a>"
      ]
    },
    {
      "cell_type": "code",
      "metadata": {
        "id": "J1khpJsYQCOX"
      },
      "source": [
        "import re\n",
        "from collections import Counter\n",
        "import numpy as np\n",
        "import pandas as pd"
      ],
      "execution_count": 1,
      "outputs": []
    },
    {
      "cell_type": "markdown",
      "metadata": {
        "id": "fdfAjlt3QCOb"
      },
      "source": [
        "<a name='ex-1'></a>\n",
        "### Exercise 1\n",
        "Implement the function `process_data` which \n",
        "\n",
        "1) Reads in a corpus (text file)\n",
        "\n",
        "2) Changes everything to lowercase\n",
        "\n",
        "3) Returns a list of words. "
      ]
    },
    {
      "cell_type": "code",
      "metadata": {
        "id": "D59ZyKqRQCOf"
      },
      "source": [
        "# UNQ_C1 (UNIQUE CELL IDENTIFIER, DO NOT EDIT)\n",
        "# GRADED FUNCTION: process_data\n",
        "def process_data(file_name):\n",
        "    \"\"\"\n",
        "    Input: \n",
        "        A file_name which is found in your current directory. You just have to read it in. \n",
        "    Output: \n",
        "        words: a list containing all the words in the corpus (text file you read) in lower case. \n",
        "    \"\"\"\n",
        "    words = [] # return this variable correctly\n",
        "\n",
        "    ### START CODE HERE ### \n",
        "    with open(file_name) as f:\n",
        "        file_name_data = f.read()\n",
        "    file_name_data=file_name_data.lower()\n",
        "    words = re.findall('\\w+',file_name_data)\n",
        "    ### END CODE HERE ###\n",
        "    \n",
        "    return words"
      ],
      "execution_count": 2,
      "outputs": []
    },
    {
      "cell_type": "markdown",
      "metadata": {
        "id": "_9ioErKgQCOg"
      },
      "source": [
        "Note, in the following cell, 'words' is converted to a python `set`. This eliminates any duplicate entries."
      ]
    },
    {
      "cell_type": "code",
      "metadata": {
        "colab": {
          "base_uri": "https://localhost:8080/"
        },
        "id": "xKtbwfzVQCOi",
        "outputId": "ec847b9d-400e-41f3-c418-25ed89d9d2ca"
      },
      "source": [
        "#DO NOT MODIFY THIS CELL\n",
        "word_l = process_data('shakespeare.txt')\n",
        "vocab = set(word_l)  # this will be your new vocabulary\n",
        "print(f\"The first ten words in the text are: \\n{word_l[0:10]}\")\n",
        "print(f\"There are {len(vocab)} unique words in the vocabulary.\")"
      ],
      "execution_count": 3,
      "outputs": [
        {
          "output_type": "stream",
          "name": "stdout",
          "text": [
            "The first ten words in the text are: \n",
            "['o', 'for', 'a', 'muse', 'of', 'fire', 'that', 'would', 'ascend', 'the']\n",
            "There are 6116 unique words in the vocabulary.\n"
          ]
        }
      ]
    },
    {
      "cell_type": "markdown",
      "metadata": {
        "id": "SGcxUrN7QCOn"
      },
      "source": [
        "<a name='ex-2'></a>\n",
        "### Exercise 2\n",
        "\n",
        "Implement a `get_count` function that returns a dictionary\n",
        "- The dictionary's keys are words\n",
        "- The value for each word is the number of times that word appears in the corpus. \n",
        "\n",
        "For example, given the following sentence: **\"I am happy because I am learning\"**, your dictionary should return the following: \n",
        "<table style=\"width:20%\">\n",
        "\n",
        "  <tr>\n",
        "    <td> <b>Key </b>  </td>\n",
        "    <td> <b>Value </b> </td> \n",
        "\n",
        "\n",
        "  </tr>\n",
        "  <tr>\n",
        "    <td> I  </td>\n",
        "    <td> 2</td> \n",
        " \n",
        "  </tr>\n",
        "   \n",
        "  <tr>\n",
        "    <td>am</td>\n",
        "    <td>2</td> \n",
        "  </tr>\n",
        "\n",
        "  <tr>\n",
        "    <td>happy</td>\n",
        "    <td>1</td> \n",
        "  </tr>\n",
        "  \n",
        "   <tr>\n",
        "    <td>because</td>\n",
        "    <td>1</td> \n",
        "  </tr>\n",
        "  \n",
        "   <tr>\n",
        "    <td>learning</td>\n",
        "    <td>1</td> \n",
        "  </tr>\n",
        "</table>\n",
        "\n",
        "\n",
        "**Instructions**: \n",
        "Implement a `get_count` which returns a dictionary where the key is a word and the value is the number of times the word appears in the list.  \n"
      ]
    },
    {
      "cell_type": "code",
      "metadata": {
        "id": "ORCZTiR3QCOp"
      },
      "source": [
        "# UNQ_C2 (UNIQUE CELL IDENTIFIER, DO NOT EDIT)\n",
        "# UNIT TEST COMMENT: Candidate for Table Driven Tests\n",
        "# GRADED FUNCTION: get_count\n",
        "def get_count(word_l):\n",
        "    '''\n",
        "    Input:\n",
        "        word_l: a set of words representing the corpus. \n",
        "    Output:\n",
        "        word_count_dict: The wordcount dictionary where key is the word and value is its frequency.\n",
        "    '''\n",
        "    \n",
        "    word_count_dict = {}  # fill this with word counts\n",
        "    ### START CODE HERE \n",
        "    word_count_dict = Counter(word_l)  \n",
        "    ### END CODE HERE ### \n",
        "    return word_count_dict"
      ],
      "execution_count": 4,
      "outputs": []
    },
    {
      "cell_type": "code",
      "metadata": {
        "colab": {
          "base_uri": "https://localhost:8080/"
        },
        "id": "zdncndFeQCOp",
        "outputId": "4461dc0e-c56b-44ee-94b0-f6e6a4a0a101"
      },
      "source": [
        "#DO NOT MODIFY THIS CELL\n",
        "word_count_dict = get_count(word_l)\n",
        "print(f\"There are {len(word_count_dict)} key values pairs\")\n",
        "print(f\"The count for the word 'thee' is {word_count_dict.get('thee',0)}\")"
      ],
      "execution_count": 5,
      "outputs": [
        {
          "output_type": "stream",
          "name": "stdout",
          "text": [
            "There are 6116 key values pairs\n",
            "The count for the word 'thee' is 240\n"
          ]
        }
      ]
    },
    {
      "cell_type": "markdown",
      "metadata": {
        "id": "oQBhbVzkQCOs"
      },
      "source": [
        "<a name='ex-3'></a>\n",
        "### Exercise 3\n",
        "Given the dictionary of word counts, compute the probability that each word will appear if randomly selected from the corpus of words.\n",
        "\n",
        "$$P(w_i) = \\frac{C(w_i)}{M} \\tag{Eqn-2}$$\n",
        "where \n",
        "\n",
        "$C(w_i)$ is the total number of times $w_i$ appears in the corpus.\n",
        "\n",
        "$M$ is the total number of words in the corpus.\n",
        "\n",
        "For example, the probability of the word 'am' in the sentence **'I am happy because I am learning'** is:\n",
        "\n",
        "$$P(am) = \\frac{C(w_i)}{M} = \\frac {2}{7} \\tag{Eqn-3}.$$\n",
        "\n",
        "**Instructions:** Implement `get_probs` function which gives you the probability \n",
        "that a word occurs in a sample. This returns a dictionary where the keys are words, and the value for each word is its probability in the corpus of words."
      ]
    },
    {
      "cell_type": "code",
      "metadata": {
        "id": "10Qancv7QCOw"
      },
      "source": [
        "# UNQ_C3 (UNIQUE CELL IDENTIFIER, DO NOT EDIT)\n",
        "# GRADED FUNCTION: get_probs\n",
        "def get_probs(word_count_dict):\n",
        "    '''\n",
        "    Input:\n",
        "        word_count_dict: The wordcount dictionary where key is the word and value is its frequency.\n",
        "    Output:\n",
        "        probs: A dictionary where keys are the words and the values are the probability that a word will occur. \n",
        "    '''\n",
        "    probs = {}  # return this variable correctly\n",
        "    \n",
        "    ### START CODE HERE ###\n",
        "    m = sum(word_count_dict.values())\n",
        "    for key in word_count_dict.keys():\n",
        "        probs[key] = word_count_dict[key] / m\n",
        "    ### END CODE HERE ###\n",
        "    return probs"
      ],
      "execution_count": 6,
      "outputs": []
    },
    {
      "cell_type": "code",
      "metadata": {
        "colab": {
          "base_uri": "https://localhost:8080/"
        },
        "id": "Bo4S7OfDQCOy",
        "outputId": "364b3fcf-0890-49e9-a80d-f6a5ca4c2ef6"
      },
      "source": [
        "#DO NOT MODIFY THIS CELL\n",
        "probs = get_probs(word_count_dict)\n",
        "print(f\"Length of probs is {len(probs)}\")\n",
        "print(f\"P('thee') is {probs['thee']:.4f}\")"
      ],
      "execution_count": 7,
      "outputs": [
        {
          "output_type": "stream",
          "name": "stdout",
          "text": [
            "Length of probs is 6116\n",
            "P('thee') is 0.0045\n"
          ]
        }
      ]
    },
    {
      "cell_type": "markdown",
      "metadata": {
        "id": "Uh6CNq55QCO0"
      },
      "source": [
        "<a name='2'></a>\n",
        "# Part 2: String Manipulations\n",
        "\n",
        "Now, that you have computed $P(w_i)$ for all the words in the corpus, you will write a few functions to manipulate strings so that you can edit the erroneous strings and return the right spellings of the words. In this section, you will implement four functions: \n",
        "\n",
        "* `delete_letter`: given a word, it returns all the possible strings that have **one character removed**. \n",
        "* `switch_letter`: given a word, it returns all the possible strings that have **two adjacent letters switched**.\n",
        "* `replace_letter`: given a word, it returns all the possible strings that have **one character replaced by another different letter**.\n",
        "* `insert_letter`: given a word, it returns all the possible strings that have an **additional character inserted**. \n"
      ]
    },
    {
      "cell_type": "markdown",
      "metadata": {
        "id": "3s2QWPHYQCO1"
      },
      "source": [
        "#### List comprehensions\n",
        "\n",
        "String and list manipulation in python will often make use of a python feature called  [list comprehensions](https://docs.python.org/3/tutorial/datastructures.html#list-comprehensions). The routines below will be described as using list comprehensions, but if you would rather implement them in another way, you are free to do so as long as the result is the same. Further, the following section will provide detailed instructions on how to use list comprehensions and how to implement the desired functions. If you are a python expert, feel free to skip the python hints and move to implementing the routines directly."
      ]
    },
    {
      "cell_type": "markdown",
      "metadata": {
        "id": "svGVVc1WQCO2"
      },
      "source": [
        "Python List Comprehensions embed a looping structure inside of a list declaration, collapsing many lines of code into a single line. If you are not familiar with them, they seem slightly out of order relative to for loops. "
      ]
    },
    {
      "cell_type": "markdown",
      "metadata": {
        "id": "6A_QgiDSQCO2"
      },
      "source": [
        "<div style=\"width:image width px; font-size:100%; text-align:center;\"><img src='GenericListComp3.PNG' alt=\"alternate text\" width=\"width\" height=\"height\"  style=\"width:800px;height:400px;\"/> Figure 2 </div>"
      ]
    },
    {
      "cell_type": "markdown",
      "metadata": {
        "id": "eiy5cd-yQCO3"
      },
      "source": [
        "The diagram above shows that the components of a list comprehension are the same components you would find in a typical for loop that appends to a list, but in a different order. With that in mind, we'll continue the specifics of this assignment. We will be very descriptive for the first function, `deletes()`, and less so in later functions as you become familiar with list comprehensions."
      ]
    },
    {
      "cell_type": "markdown",
      "metadata": {
        "id": "gAyzk-ekQCO3"
      },
      "source": [
        "<a name='ex-4'></a>\n",
        "### Exercise 4\n",
        "\n",
        "**Instructions for delete_letter():** Implement a `delete_letter()` function that, given a word, returns a list of strings with one character deleted. \n",
        "\n",
        "For example, given the word **nice**, it would return the set: {'ice', 'nce', 'nic', 'nie'}. \n",
        "\n",
        "**Step 1:** Create a list of 'splits'. This is all the ways you can split a word into Left and Right: For example,   \n",
        "'nice is split into : `[('', 'nice'), ('n', 'ice'), ('ni', 'ce'), ('nic', 'e'), ('nice', '')]`\n",
        "This is common to all four functions (delete, replace, switch, insert).\n"
      ]
    },
    {
      "cell_type": "markdown",
      "metadata": {
        "id": "TmAB4NZuQCO5"
      },
      "source": [
        "**Step 2:** This is specific to `delete_letter`. Here, we are generating all words that result from deleting one character.  \n",
        "This can be done in a single line with a list comprehension. You can makes use of this type of syntax:  \n",
        "`[f(a,b) for a, b in splits if condition]`  \n",
        "\n",
        "For our 'nice' example you get: \n",
        "['ice', 'nce', 'nie', 'nic']"
      ]
    },
    {
      "cell_type": "code",
      "metadata": {
        "id": "oqJ27oT1QCO7"
      },
      "source": [
        "# UNQ_C4 (UNIQUE CELL IDENTIFIER, DO NOT EDIT)\n",
        "# UNIT TEST COMMENT: Candidate for Table Driven Tests\n",
        "# GRADED FUNCTION: deletes\n",
        "def delete_letter(word, verbose=False):\n",
        "    '''\n",
        "    Input:\n",
        "        word: the string/word for which you will generate all possible words \n",
        "                in the vocabulary which have 1 missing character\n",
        "    Output:\n",
        "        delete_l: a list of all possible strings obtained by deleting 1 character from word\n",
        "    '''\n",
        "    \n",
        "    delete_l = []\n",
        "    split_l = []\n",
        "    \n",
        "    ### START CODE HERE ###\n",
        "    for c in range(len(word)):\n",
        "        split_l.append((word[:c],word[c:]))\n",
        "    for a,b in split_l:\n",
        "        delete_l.append(a+b[1:])\n",
        "    ### END CODE HERE ###\n",
        "\n",
        "    if verbose: print(f\"input word {word}, \\nsplit_l = {split_l}, \\ndelete_l = {delete_l}\")\n",
        "\n",
        "    return delete_l"
      ],
      "execution_count": 8,
      "outputs": []
    },
    {
      "cell_type": "code",
      "metadata": {
        "colab": {
          "base_uri": "https://localhost:8080/"
        },
        "id": "1x705coxQCO8",
        "outputId": "60de8ca3-fcf3-4770-88fa-49a950f2265b"
      },
      "source": [
        "delete_word_l = delete_letter(word=\"cans\",\n",
        "                        verbose=True)"
      ],
      "execution_count": 9,
      "outputs": [
        {
          "output_type": "stream",
          "name": "stdout",
          "text": [
            "input word cans, \n",
            "split_l = [('', 'cans'), ('c', 'ans'), ('ca', 'ns'), ('can', 's')], \n",
            "delete_l = ['ans', 'cns', 'cas', 'can']\n"
          ]
        }
      ]
    },
    {
      "cell_type": "markdown",
      "metadata": {
        "id": "__j-pihOQCPA"
      },
      "source": [
        "<a name='ex-5'></a>\n",
        "### Exercise 5\n",
        "\n",
        "**Instructions for switch_letter()**: Now implement a function that switches two letters in a word. It takes in a word and returns a list of all the possible switches of two letters **that are adjacent to each other**. \n",
        "- For example, given the word 'eta', it returns {'eat', 'tea'}, but does not return 'ate'.\n",
        "\n",
        "**Step 1:** is the same as in delete_letter()  \n",
        "**Step 2:** A list comprehension or for loop which forms strings by swapping adjacent letters. This is of the form:  \n",
        "`[f(L,R) for L, R in splits if condition]`  where 'condition' will test the length of R in a given iteration. See below."
      ]
    },
    {
      "cell_type": "code",
      "metadata": {
        "id": "XPynTtLiQCPF"
      },
      "source": [
        "# UNQ_C5 (UNIQUE CELL IDENTIFIER, DO NOT EDIT)\n",
        "# UNIT TEST COMMENT: Candidate for Table Driven Tests\n",
        "# GRADED FUNCTION: switches\n",
        "def switch_letter(word, verbose=False):\n",
        "    '''\n",
        "    Input:\n",
        "        word: input string\n",
        "     Output:\n",
        "        switches: a list of all possible strings with one adjacent charater switched\n",
        "    ''' \n",
        "    \n",
        "    switch_l = []\n",
        "    split_l = []\n",
        "    \n",
        "    ### START CODE HERE ###\n",
        "    len_word=len(word)\n",
        "    for c in range(len_word):\n",
        "        split_l.append((word[:c],word[c:]))\n",
        "    switch_l = [a + b[1] + b[0] + b[2:] for a,b in split_l if len(b) >= 2]\n",
        "    ### END CODE HERE ###\n",
        "    \n",
        "    if verbose: print(f\"Input word = {word} \\nsplit_l = {split_l} \\nswitch_l = {switch_l}\") \n",
        "\n",
        "    return switch_l"
      ],
      "execution_count": 10,
      "outputs": []
    },
    {
      "cell_type": "code",
      "metadata": {
        "colab": {
          "base_uri": "https://localhost:8080/"
        },
        "id": "MzQ0n8uwQCPF",
        "outputId": "f9efd7f2-cc89-400b-f3d1-d6316eaf979a"
      },
      "source": [
        "switch_word_l = switch_letter(word=\"eta\",\n",
        "                         verbose=True)"
      ],
      "execution_count": 11,
      "outputs": [
        {
          "output_type": "stream",
          "name": "stdout",
          "text": [
            "Input word = eta \n",
            "split_l = [('', 'eta'), ('e', 'ta'), ('et', 'a')] \n",
            "switch_l = ['tea', 'eat']\n"
          ]
        }
      ]
    },
    {
      "cell_type": "markdown",
      "metadata": {
        "id": "DAbMJnX0QCPN"
      },
      "source": [
        "<a name='ex-6'></a>\n",
        "### Exercise 6\n",
        "**Instructions for replace_letter()**: Now implement a function that takes in a word and returns a list of strings with one **replaced letter** from the original word. \n",
        "\n",
        "**Step 1:** is the same as in `delete_letter()`\n",
        "\n",
        "**Step 2:** A list comprehension or for loop which form strings by replacing letters.  This can be of the form:  \n",
        "`[f(a,b,c) for a, b in splits if condition for c in string]`   Note the use of the second for loop.  \n",
        "It is expected in this routine that one or more of the replacements will include the original word. For example, replacing the first letter of 'ear' with 'e' will return 'ear'.\n",
        "\n",
        "**Step 3:** Remove the original input letter from the output."
      ]
    },
    {
      "cell_type": "code",
      "metadata": {
        "id": "gGytSg3kQCPP"
      },
      "source": [
        "# UNQ_C6 (UNIQUE CELL IDENTIFIER, DO NOT EDIT)\n",
        "# UNIT TEST COMMENT: Candidate for Table Driven Tests\n",
        "# GRADED FUNCTION: replaces\n",
        "def replace_letter(word, verbose=False):\n",
        "    '''\n",
        "    Input:\n",
        "        word: the input string/word \n",
        "    Output:\n",
        "        replaces: a list of all possible strings where we replaced one letter from the original word. \n",
        "    ''' \n",
        "    \n",
        "    letters = 'abcdefghijklmnopqrstuvwxyz'\n",
        "    replace_l = []\n",
        "    split_l = []\n",
        "    \n",
        "    ### START CODE HERE ###\n",
        "    for c in range(len(word)):\n",
        "        split_l.append((word[0:c],word[c:]))\n",
        "    replace_l = [a + l + (b[1:] if len(b)> 1 else '') for a,b in split_l if b for l in letters]\n",
        "    replace_set=set(replace_l)    \n",
        "    replace_set.remove(word)\n",
        "    ### END CODE HERE ###\n",
        "    \n",
        "    # turn the set back into a list and sort it, for easier viewing\n",
        "    replace_l = sorted(list(replace_set))\n",
        "    \n",
        "    if verbose: print(f\"Input word = {word} \\nsplit_l = {split_l} \\nreplace_l {replace_l}\")   \n",
        "    \n",
        "    return replace_l"
      ],
      "execution_count": 12,
      "outputs": []
    },
    {
      "cell_type": "code",
      "metadata": {
        "colab": {
          "base_uri": "https://localhost:8080/"
        },
        "id": "hLDRgv4PQCPP",
        "outputId": "200d0dfa-656c-4f1e-be5e-9f2c0255bb71"
      },
      "source": [
        "replace_l = replace_letter(word='can',\n",
        "                              verbose=True)"
      ],
      "execution_count": 13,
      "outputs": [
        {
          "output_type": "stream",
          "name": "stdout",
          "text": [
            "Input word = can \n",
            "split_l = [('', 'can'), ('c', 'an'), ('ca', 'n')] \n",
            "replace_l ['aan', 'ban', 'caa', 'cab', 'cac', 'cad', 'cae', 'caf', 'cag', 'cah', 'cai', 'caj', 'cak', 'cal', 'cam', 'cao', 'cap', 'caq', 'car', 'cas', 'cat', 'cau', 'cav', 'caw', 'cax', 'cay', 'caz', 'cbn', 'ccn', 'cdn', 'cen', 'cfn', 'cgn', 'chn', 'cin', 'cjn', 'ckn', 'cln', 'cmn', 'cnn', 'con', 'cpn', 'cqn', 'crn', 'csn', 'ctn', 'cun', 'cvn', 'cwn', 'cxn', 'cyn', 'czn', 'dan', 'ean', 'fan', 'gan', 'han', 'ian', 'jan', 'kan', 'lan', 'man', 'nan', 'oan', 'pan', 'qan', 'ran', 'san', 'tan', 'uan', 'van', 'wan', 'xan', 'yan', 'zan']\n"
          ]
        }
      ]
    },
    {
      "cell_type": "markdown",
      "metadata": {
        "id": "_jtG9WD2QCPS"
      },
      "source": [
        "<a name='ex-7'></a>\n",
        "### Exercise 7\n",
        "\n",
        "**Instructions for insert_letter()**: Now implement a function that takes in a word and returns a list with a letter inserted at every offset.\n",
        "\n",
        "**Step 1:** is the same as in `delete_letter()`\n",
        "\n",
        "**Step 2:** This can be a list comprehension of the form:  \n",
        "`[f(a,b,c) for a, b in splits if condition for c in string]`   "
      ]
    },
    {
      "cell_type": "code",
      "metadata": {
        "id": "kRwpAU0hQCPS"
      },
      "source": [
        "# UNQ_C7 (UNIQUE CELL IDENTIFIER, DO NOT EDIT)\n",
        "# UNIT TEST COMMENT: Candidate for Table Driven Tests\n",
        "# GRADED FUNCTION: inserts\n",
        "def insert_letter(word, verbose=False):\n",
        "    '''\n",
        "    Input:\n",
        "        word: the input string/word \n",
        "    Output:\n",
        "        inserts: a set of all possible strings with one new letter inserted at every offset\n",
        "    ''' \n",
        "    letters = 'abcdefghijklmnopqrstuvwxyz'\n",
        "    insert_l = []\n",
        "    split_l = []\n",
        "    \n",
        "    ### START CODE HERE ###\n",
        "    for c in range(len(word)+1):\n",
        "        split_l.append((word[0:c],word[c:]))\n",
        "    insert_l = [ a + l + b for a,b in split_l for l in letters]\n",
        "    ### END CODE HERE ###\n",
        "\n",
        "    if verbose: print(f\"Input word {word} \\nsplit_l = {split_l} \\ninsert_l = {insert_l}\")\n",
        "    \n",
        "    return insert_l"
      ],
      "execution_count": 14,
      "outputs": []
    },
    {
      "cell_type": "code",
      "metadata": {
        "colab": {
          "base_uri": "https://localhost:8080/"
        },
        "id": "2Fw7oubSQCPS",
        "outputId": "479465a7-b446-43a3-bf5f-3e68b29e2989"
      },
      "source": [
        "insert_l = insert_letter('at', True)\n",
        "print(f\"Number of strings output by insert_letter('at') is {len(insert_l)}\")"
      ],
      "execution_count": 15,
      "outputs": [
        {
          "output_type": "stream",
          "name": "stdout",
          "text": [
            "Input word at \n",
            "split_l = [('', 'at'), ('a', 't'), ('at', '')] \n",
            "insert_l = ['aat', 'bat', 'cat', 'dat', 'eat', 'fat', 'gat', 'hat', 'iat', 'jat', 'kat', 'lat', 'mat', 'nat', 'oat', 'pat', 'qat', 'rat', 'sat', 'tat', 'uat', 'vat', 'wat', 'xat', 'yat', 'zat', 'aat', 'abt', 'act', 'adt', 'aet', 'aft', 'agt', 'aht', 'ait', 'ajt', 'akt', 'alt', 'amt', 'ant', 'aot', 'apt', 'aqt', 'art', 'ast', 'att', 'aut', 'avt', 'awt', 'axt', 'ayt', 'azt', 'ata', 'atb', 'atc', 'atd', 'ate', 'atf', 'atg', 'ath', 'ati', 'atj', 'atk', 'atl', 'atm', 'atn', 'ato', 'atp', 'atq', 'atr', 'ats', 'att', 'atu', 'atv', 'atw', 'atx', 'aty', 'atz']\n",
            "Number of strings output by insert_letter('at') is 78\n"
          ]
        }
      ]
    },
    {
      "cell_type": "code",
      "metadata": {
        "id": "o87VHbnxQCPY"
      },
      "source": [
        "# UNQ_C8 (UNIQUE CELL IDENTIFIER, DO NOT EDIT)\n",
        "# UNIT TEST COMMENT: Candidate for Table Driven Tests\n",
        "# GRADED FUNCTION: edit_one_letter\n",
        "def edit_one_letter(word, allow_switches = True):\n",
        "    \"\"\"\n",
        "    Input:\n",
        "        word: the string/word for which we will generate all possible wordsthat are one edit away.\n",
        "    Output:\n",
        "        edit_one_set: a set of words with one possible edit. Please return a set. and not a list.\n",
        "    \"\"\"\n",
        "    \n",
        "    edit_one_set = set()\n",
        "    \n",
        "    ### START CODE HERE ###\n",
        "    edit_one_set.update(delete_letter(word))\n",
        "    if allow_switches:\n",
        "        edit_one_set.update(switch_letter(word))\n",
        "    edit_one_set.update(replace_letter(word))\n",
        "    edit_one_set.update(insert_letter(word))\n",
        "    ### END CODE HERE ###\n",
        "\n",
        "    return edit_one_set"
      ],
      "execution_count": 16,
      "outputs": []
    },
    {
      "cell_type": "code",
      "metadata": {
        "colab": {
          "base_uri": "https://localhost:8080/"
        },
        "id": "nJA7gfHZQCPZ",
        "outputId": "c0df4182-d3d1-4be8-e7f4-1e93193f9aca"
      },
      "source": [
        "tmp_word = \"at\"\n",
        "tmp_edit_one_set = edit_one_letter(tmp_word)\n",
        "# turn this into a list to sort it, in order to view it\n",
        "tmp_edit_one_l = sorted(list(tmp_edit_one_set))\n",
        "\n",
        "print(f\"input word {tmp_word} \\nedit_one_l \\n{tmp_edit_one_l}\\n\")\n",
        "print(f\"The type of the returned object should be a set {type(tmp_edit_one_set)}\")\n",
        "print(f\"Number of outputs from edit_one_letter('at') is {len(edit_one_letter('at'))}\")"
      ],
      "execution_count": 17,
      "outputs": [
        {
          "output_type": "stream",
          "name": "stdout",
          "text": [
            "input word at \n",
            "edit_one_l \n",
            "['a', 'aa', 'aat', 'ab', 'abt', 'ac', 'act', 'ad', 'adt', 'ae', 'aet', 'af', 'aft', 'ag', 'agt', 'ah', 'aht', 'ai', 'ait', 'aj', 'ajt', 'ak', 'akt', 'al', 'alt', 'am', 'amt', 'an', 'ant', 'ao', 'aot', 'ap', 'apt', 'aq', 'aqt', 'ar', 'art', 'as', 'ast', 'ata', 'atb', 'atc', 'atd', 'ate', 'atf', 'atg', 'ath', 'ati', 'atj', 'atk', 'atl', 'atm', 'atn', 'ato', 'atp', 'atq', 'atr', 'ats', 'att', 'atu', 'atv', 'atw', 'atx', 'aty', 'atz', 'au', 'aut', 'av', 'avt', 'aw', 'awt', 'ax', 'axt', 'ay', 'ayt', 'az', 'azt', 'bat', 'bt', 'cat', 'ct', 'dat', 'dt', 'eat', 'et', 'fat', 'ft', 'gat', 'gt', 'hat', 'ht', 'iat', 'it', 'jat', 'jt', 'kat', 'kt', 'lat', 'lt', 'mat', 'mt', 'nat', 'nt', 'oat', 'ot', 'pat', 'pt', 'qat', 'qt', 'rat', 'rt', 'sat', 'st', 't', 'ta', 'tat', 'tt', 'uat', 'ut', 'vat', 'vt', 'wat', 'wt', 'xat', 'xt', 'yat', 'yt', 'zat', 'zt']\n",
            "\n",
            "The type of the returned object should be a set <class 'set'>\n",
            "Number of outputs from edit_one_letter('at') is 129\n"
          ]
        }
      ]
    },
    {
      "cell_type": "markdown",
      "metadata": {
        "id": "lakQukQ7QCPa"
      },
      "source": [
        "<a name='3-2'></a>\n",
        "## Part 3.2 Edit two letters\n",
        "\n",
        "<a name='ex-9'></a>\n",
        "### Exercise 9\n",
        "\n",
        "Now you can generalize this to implement to get two edits on a word. To do so, you would have to get all the possible edits on a single word and then for each modified word, you would have to modify it again. \n",
        "\n",
        "**Instructions**: Implement the `edit_two_letters` function that returns a set of words that are two edits away. Note that creating additional edits based on the `edit_one_letter` function may 'restore' some one_edits to zero or one edits. That is allowed here. This accounted for in get_corrections."
      ]
    },
    {
      "cell_type": "code",
      "metadata": {
        "id": "mdfMP9Z_QCPb"
      },
      "source": [
        "# UNQ_C9 (UNIQUE CELL IDENTIFIER, DO NOT EDIT)\n",
        "# UNIT TEST COMMENT: Candidate for Table Driven Tests\n",
        "# GRADED FUNCTION: edit_two_letters\n",
        "def edit_two_letters(word, allow_switches = True):\n",
        "    '''\n",
        "    Input:\n",
        "        word: the input string/word \n",
        "    Output:\n",
        "        edit_two_set: a set of strings with all possible two edits\n",
        "    '''\n",
        "    \n",
        "    edit_two_set = set()\n",
        "    \n",
        "    ### START CODE HERE ###\n",
        "    edit_one = edit_one_letter(word,allow_switches=allow_switches)\n",
        "    for w in edit_one:\n",
        "        if w:\n",
        "            edit_two = edit_one_letter(w,allow_switches=allow_switches)\n",
        "            edit_two_set.update(edit_two)\n",
        "    ### END CODE HERE ###\n",
        "    \n",
        "    return edit_two_set"
      ],
      "execution_count": 18,
      "outputs": []
    },
    {
      "cell_type": "code",
      "metadata": {
        "colab": {
          "base_uri": "https://localhost:8080/"
        },
        "id": "Nl5zZ71hQCPb",
        "outputId": "83ea5ae5-3b5f-4684-c73d-a43ce382823d"
      },
      "source": [
        "tmp_edit_two_set = edit_two_letters(\"a\")\n",
        "tmp_edit_two_l = sorted(list(tmp_edit_two_set))\n",
        "print(f\"Number of strings with edit distance of two: {len(tmp_edit_two_l)}\")\n",
        "print(f\"First 10 strings {tmp_edit_two_l[:10]}\")\n",
        "print(f\"Last 10 strings {tmp_edit_two_l[-10:]}\")\n",
        "print(f\"The data type of the returned object should be a set {type(tmp_edit_two_set)}\")\n",
        "print(f\"Number of strings that are 2 edit distances from 'at' is {len(edit_two_letters('at'))}\")"
      ],
      "execution_count": 19,
      "outputs": [
        {
          "output_type": "stream",
          "name": "stdout",
          "text": [
            "Number of strings with edit distance of two: 2654\n",
            "First 10 strings ['', 'a', 'aa', 'aaa', 'aab', 'aac', 'aad', 'aae', 'aaf', 'aag']\n",
            "Last 10 strings ['zv', 'zva', 'zw', 'zwa', 'zx', 'zxa', 'zy', 'zya', 'zz', 'zza']\n",
            "The data type of the returned object should be a set <class 'set'>\n",
            "Number of strings that are 2 edit distances from 'at' is 7154\n"
          ]
        }
      ]
    },
    {
      "cell_type": "markdown",
      "metadata": {
        "id": "Kodw0PyzQCPc"
      },
      "source": [
        "<a name='3-3'></a>\n",
        "## Part 3-3: suggest spelling suggestions\n",
        "\n",
        "Now you will use your `edit_two_letters` function to get a set of all the possible 2 edits on your word. You will then use those strings to get the most probable word you meant to type aka your typing suggestion.\n",
        "\n",
        "<a name='ex-10'></a>\n",
        "### Exercise 10\n",
        "**Instructions**: Implement `get_corrections`, which returns a list of zero to n possible suggestion tuples of the form (word, probability_of_word). \n",
        "\n",
        "**Step 1:** Generate suggestions for a supplied word: You'll use the edit functions you have developed. The 'suggestion algorithm' should follow this logic: \n",
        "* If the word is in the vocabulary, suggest the word. \n",
        "* Otherwise, if there are suggestions from `edit_one_letter` that are in the vocabulary, use those. \n",
        "* Otherwise, if there are suggestions from `edit_two_letters` that are in the vocabulary, use those. \n",
        "* Otherwise, suggest the input word.*  \n",
        "* The idea is that words generated from fewer edits are more likely than words with more edits.\n",
        "\n",
        "\n",
        "Note: \n",
        "- Edits of one or two letters may 'restore' strings to either zero or one edit. This algorithm accounts for this by preferentially selecting lower distance edits first."
      ]
    },
    {
      "cell_type": "markdown",
      "metadata": {
        "id": "nI6dWfjuQCPc"
      },
      "source": [
        "#### Short circuit\n",
        "In Python, logical operations such as `and` and `or` have two useful properties. They can operate on lists and they have ['short-circuit' behavior](https://docs.python.org/3/library/stdtypes.html). Try these:"
      ]
    },
    {
      "cell_type": "code",
      "metadata": {
        "colab": {
          "base_uri": "https://localhost:8080/"
        },
        "id": "zr8x8OZHQCPc",
        "outputId": "f75f4b14-7025-42d1-ad04-2a07f90e1df2"
      },
      "source": [
        "# example of logical operation on lists or sets\n",
        "print( [] and [\"a\",\"b\"] )\n",
        "print( [] or [\"a\",\"b\"] )\n",
        "#example of Short circuit behavior\n",
        "val1 =  [\"Most\",\"Likely\"] or [\"Less\",\"so\"] or [\"least\",\"of\",\"all\"]  # selects first, does not evalute remainder\n",
        "print(val1)\n",
        "val2 =  [] or [] or [\"least\",\"of\",\"all\"] # continues evaluation until there is a non-empty list\n",
        "print(val2)"
      ],
      "execution_count": 20,
      "outputs": [
        {
          "output_type": "stream",
          "name": "stdout",
          "text": [
            "[]\n",
            "['a', 'b']\n",
            "['Most', 'Likely']\n",
            "['least', 'of', 'all']\n"
          ]
        }
      ]
    },
    {
      "cell_type": "markdown",
      "metadata": {
        "id": "y4wdUUZBQCPd"
      },
      "source": [
        "The logical `or` could be used to implement the suggestion algorithm very compactly. Alternately, if/then constructs could be used.\n",
        " \n",
        "**Step 2**: Create a 'best_words' dictionary where the 'key' is a suggestion and the 'value' is the probability of that word in your vocabulary. If the word is not in the vocabulary, assign it a probability of 0.\n",
        "\n",
        "**Step 3**: Select the n best suggestions. There may be fewer than n."
      ]
    },
    {
      "cell_type": "code",
      "metadata": {
        "id": "KDZkGT6tQCPe"
      },
      "source": [
        "# UNQ_C10 (UNIQUE CELL IDENTIFIER, DO NOT EDIT)\n",
        "# UNIT TEST COMMENT: Candidate for Table Driven Tests\n",
        "# GRADED FUNCTION: get_corrections\n",
        "def get_corrections(word, probs, vocab, n=2, verbose = False):\n",
        "    '''\n",
        "    Input: \n",
        "        word: a user entered string to check for suggestions\n",
        "        probs: a dictionary that maps each word to its probability in the corpus\n",
        "        vocab: a set containing all the vocabulary\n",
        "        n: number of possible word corrections you want returned in the dictionary\n",
        "    Output: \n",
        "        n_best: a list of tuples with the most probable n corrected words and their probabilities.\n",
        "    '''\n",
        "    \n",
        "    suggestions = []\n",
        "    n_best = []\n",
        "    \n",
        "    ### START CODE HERE ###\n",
        "    suggestions = list((word in vocab and word) or edit_one_letter(word).intersection(vocab) or edit_two_letters(word).intersection(vocab))\n",
        "    n_best = [[s,probs[s]] for s in list(reversed(suggestions))]\n",
        "    ### END CODE HERE ###\n",
        "    \n",
        "    if verbose: print(\"suggestions = \", suggestions)\n",
        "\n",
        "    return n_best"
      ],
      "execution_count": 21,
      "outputs": []
    },
    {
      "cell_type": "code",
      "metadata": {
        "colab": {
          "base_uri": "https://localhost:8080/"
        },
        "id": "POoyULjwQCPf",
        "outputId": "db6127a8-1f60-4a50-d35a-8a34a071c549"
      },
      "source": [
        "# Test your implementation - feel free to try other words in my word\n",
        "my_word = 'dys' \n",
        "tmp_corrections = get_corrections(my_word, probs, vocab, 2, verbose=True)\n",
        "for i, word_prob in enumerate(tmp_corrections):\n",
        "    print(f\"word {i}: {word_prob[0]}, probability {word_prob[1]:.6f}\")\n",
        "\n",
        "# CODE REVIEW COMMENT: using \"tmp_corrections\" insteads of \"cors\". \"cors\" is not defined\n",
        "print(f\"data type of corrections {type(tmp_corrections)}\")"
      ],
      "execution_count": 22,
      "outputs": [
        {
          "output_type": "stream",
          "name": "stdout",
          "text": [
            "suggestions =  ['days', 'dye']\n",
            "word 0: dye, probability 0.000019\n",
            "word 1: days, probability 0.000410\n",
            "data type of corrections <class 'list'>\n"
          ]
        }
      ]
    },
    {
      "cell_type": "markdown",
      "metadata": {
        "id": "coXb4LzuQCPi"
      },
      "source": [
        "<a name='4'></a>\n",
        "# Part 4: Minimum Edit distance\n",
        "\n",
        "Now that you have implemented your auto-correct, how do you evaluate the similarity between two strings? For example: 'waht' and 'what'\n",
        "\n",
        "Also how do you efficiently find the shortest path to go from the word, 'waht' to the word 'what'?\n",
        "\n",
        "You will implement a dynamic programming system that will tell you the minimum number of edits required to convert a string into another string."
      ]
    },
    {
      "cell_type": "markdown",
      "metadata": {
        "id": "LQOi9TvoQCPj"
      },
      "source": [
        "<a name='4-1'></a>\n",
        "### Part 4.1 Dynamic Programming\n",
        "\n",
        "Dynamic Programming breaks a problem down into subproblems which can be combined to form the final solution. Here, given a string source[0..i] and a string target[0..j], we will compute all the combinations of substrings[i, j] and calculate their edit distance. To do this efficiently, we will use a table to maintain the previously computed substrings and use those to calculate larger substrings.\n",
        "\n",
        "You have to create a matrix and update each element in the matrix as follows:  "
      ]
    },
    {
      "cell_type": "markdown",
      "metadata": {
        "id": "lMizlBLWQCPk"
      },
      "source": [
        "$$\\text{Initialization}$$\n",
        "\n",
        "\\begin{align}\n",
        "D[0,0] &= 0 \\\\\n",
        "D[i,0] &= D[i-1,0] + del\\_cost(source[i]) \\tag{4}\\\\\n",
        "D[0,j] &= D[0,j-1] + ins\\_cost(target[j]) \\\\\n",
        "\\end{align}"
      ]
    },
    {
      "cell_type": "markdown",
      "metadata": {
        "id": "Vdm53QtYQCPk"
      },
      "source": [
        "\n",
        "$$\\text{Per Cell Operations}$$\n",
        "\\begin{align}\n",
        " \\\\\n",
        "D[i,j] =min\n",
        "\\begin{cases}\n",
        "D[i-1,j] + del\\_cost\\\\\n",
        "D[i,j-1] + ins\\_cost\\\\\n",
        "D[i-1,j-1] + \\left\\{\\begin{matrix}\n",
        "rep\\_cost; & if src[i]\\neq tar[j]\\\\\n",
        "0 ; & if src[i]=tar[j]\n",
        "\\end{matrix}\\right.\n",
        "\\end{cases}\n",
        "\\tag{5}\n",
        "\\end{align}"
      ]
    },
    {
      "cell_type": "markdown",
      "metadata": {
        "id": "NmOroHuHQCPm"
      },
      "source": [
        "So converting the source word **play** to the target word **stay**, using an input cost of one, a delete cost of 1, and replace cost of 2 would give you the following table:\n",
        "<table style=\"width:20%\">\n",
        "\n",
        "  <tr>\n",
        "    <td> <b> </b>  </td>\n",
        "    <td> <b># </b>  </td>\n",
        "    <td> <b>s </b>  </td>\n",
        "    <td> <b>t </b> </td> \n",
        "    <td> <b>a </b> </td> \n",
        "    <td> <b>y </b> </td> \n",
        "  </tr>\n",
        "   <tr>\n",
        "    <td> <b>  #  </b></td>\n",
        "    <td> 0</td> \n",
        "    <td> 1</td> \n",
        "    <td> 2</td> \n",
        "    <td> 3</td> \n",
        "    <td> 4</td> \n",
        " \n",
        "  </tr>\n",
        "  <tr>\n",
        "    <td> <b>  p  </b></td>\n",
        "    <td> 1</td> \n",
        " <td> 2</td> \n",
        "    <td> 3</td> \n",
        "    <td> 4</td> \n",
        "   <td> 5</td>\n",
        "  </tr>\n",
        "   \n",
        "  <tr>\n",
        "    <td> <b> l </b></td>\n",
        "    <td>2</td> \n",
        "    <td>3</td> \n",
        "    <td>4</td> \n",
        "    <td>5</td> \n",
        "    <td>6</td>\n",
        "  </tr>\n",
        "\n",
        "  <tr>\n",
        "    <td> <b> a </b></td>\n",
        "    <td>3</td> \n",
        "     <td>4</td> \n",
        "     <td>5</td> \n",
        "     <td>4</td>\n",
        "     <td>5</td> \n",
        "  </tr>\n",
        "  \n",
        "   <tr>\n",
        "    <td> <b> y </b></td>\n",
        "    <td>4</td> \n",
        "      <td>5</td> \n",
        "     <td>6</td> \n",
        "     <td>5</td>\n",
        "     <td>4</td> \n",
        "  </tr>\n",
        "  \n",
        "\n",
        "</table>\n",
        "\n"
      ]
    },
    {
      "cell_type": "markdown",
      "metadata": {
        "id": "SPb7CCNgQCPn"
      },
      "source": [
        "The operations used in this algorithm are 'insert', 'delete', and 'replace'. These correspond to the functions that you defined earlier: insert_letter(), delete_letter() and replace_letter(). switch_letter() is not used here."
      ]
    },
    {
      "cell_type": "markdown",
      "metadata": {
        "id": "zON9XmXAQCPo"
      },
      "source": [
        "The diagram below describes how to initialize the table. Each entry in D[i,j] represents the minimum cost of converting string source[0:i] to string target[0:j]. The first column is initialized to represent the cumulative cost of deleting the source characters to convert string \"EER\" to \"\". The first row is initialized to represent the cumulative cost of inserting the target characters to convert from \"\" to \"NEAR\"."
      ]
    },
    {
      "cell_type": "markdown",
      "metadata": {
        "id": "bGnfDIwsQCPq"
      },
      "source": [
        "<div style=\"width:image width px; font-size:100%; text-align:center;\"><img src='EditDistInit4.PNG' alt=\"alternate text\" width=\"width\" height=\"height\" style=\"width:1000px;height:400px;\"/> Figure 6 Initializing Distance Matrix</div>     "
      ]
    },
    {
      "cell_type": "markdown",
      "metadata": {
        "id": "H80LItXvQCPq"
      },
      "source": [
        "Filling in the remainder of the table utilizes the 'Per Cell Operations' in the equation (5) above. Note, the diagram below includes in the table some of the 3 sub-calculations shown in light grey. Only 'min' of those operations is stored in the table in the `min_edit_distance()` function."
      ]
    },
    {
      "cell_type": "markdown",
      "metadata": {
        "id": "lL3SuKp0QCPr"
      },
      "source": [
        "<div style=\"width:image width px; font-size:100%; text-align:center;\"><img src='EditDistFill2.PNG' alt=\"alternate text\" width=\"width\" height=\"height\" style=\"width:800px;height:400px;\"/> Figure 7 Filling Distance Matrix</div>     "
      ]
    },
    {
      "cell_type": "markdown",
      "metadata": {
        "id": "ST2DSXDRQCPr"
      },
      "source": [
        "Note that the formula for $D[i,j]$ shown in the image is equivalent to:\n",
        "\n",
        "\\begin{align}\n",
        " \\\\\n",
        "D[i,j] =min\n",
        "\\begin{cases}\n",
        "D[i-1,j] + del\\_cost\\\\\n",
        "D[i,j-1] + ins\\_cost\\\\\n",
        "D[i-1,j-1] + \\left\\{\\begin{matrix}\n",
        "rep\\_cost; & if src[i]\\neq tar[j]\\\\\n",
        "0 ; & if src[i]=tar[j]\n",
        "\\end{matrix}\\right.\n",
        "\\end{cases}\n",
        "\\tag{5}\n",
        "\\end{align}\n",
        "\n",
        "The variable `sub_cost` (for substitution cost) is the same as `rep_cost`; replacement cost.  We will stick with the term \"replace\" whenever possible."
      ]
    },
    {
      "cell_type": "markdown",
      "metadata": {
        "id": "3wR6dJlBQCPr"
      },
      "source": [
        "Below are some examples of cells where replacement is used. This also shows the minimum path from the lower right final position where \"EER\" has been replaced by \"NEAR\" back to the start. This provides a starting point for the optional 'backtrace' algorithm below."
      ]
    },
    {
      "cell_type": "markdown",
      "metadata": {
        "id": "TT_TkRIDQCPs"
      },
      "source": [
        "<div style=\"width:image width px; font-size:100%; text-align:center;\"><img src='EditDistExample1.PNG' alt=\"alternate text\" width=\"width\" height=\"height\" style=\"width:1200px;height:400px;\"/> Figure 8 Examples Distance Matrix</div>    "
      ]
    },
    {
      "cell_type": "markdown",
      "metadata": {
        "id": "iRpijZvOQCPs"
      },
      "source": [
        "<a name='ex-11'></a>\n",
        "### Exercise 11\n",
        "\n",
        "Again, the word \"substitution\" appears in the figure, but think of this as \"replacement\"."
      ]
    },
    {
      "cell_type": "markdown",
      "metadata": {
        "id": "6ChH8sXHQCPs"
      },
      "source": [
        "**Instructions**: Implement the function below to get the minimum amount of edits required given a source string and a target string. "
      ]
    },
    {
      "cell_type": "markdown",
      "metadata": {
        "id": "WOLBPbmrQCPs"
      },
      "source": [
        "<details>    \n",
        "<summary>\n",
        "    <font size=\"3\" color=\"darkgreen\"><b>Hints</b></font>\n",
        "</summary>\n",
        "<p>\n",
        "<ul>\n",
        "    <li>The range(start, stop, step) function excludes 'stop' from its output</li>\n",
        "    <li><a href=\"\" > words </a> </li>\n",
        "</ul>\n",
        "</p>\n"
      ]
    },
    {
      "cell_type": "code",
      "metadata": {
        "id": "EtufA6YyQCPt"
      },
      "source": [
        "# UNQ_C11 (UNIQUE CELL IDENTIFIER, DO NOT EDIT)\n",
        "# GRADED FUNCTION: min_edit_distance\n",
        "def min_edit_distance(source, target, ins_cost = 1, del_cost = 1, rep_cost = 2):\n",
        "    '''\n",
        "    Input: \n",
        "        source: a string corresponding to the string you are starting with\n",
        "        target: a string corresponding to the string you want to end with\n",
        "        ins_cost: an integer setting the insert cost\n",
        "        del_cost: an integer setting the delete cost\n",
        "        rep_cost: an integer setting the replace cost\n",
        "    Output:\n",
        "        D: a matrix of len(source)+1 by len(target)+1 containing minimum edit distances\n",
        "        med: the minimum edit distance (med) required to convert the source string to the target\n",
        "    '''\n",
        "    # use deletion and insert cost as  1\n",
        "    m = len(source) \n",
        "    n = len(target) \n",
        "    #initialize cost matrix with zeros and dimensions (m+1,n+1) \n",
        "    D = np.zeros((m+1, n+1), dtype=int) \n",
        "    \n",
        "    ### START CODE HERE (Replace instances of 'None' with your code) ###\n",
        "    \n",
        "    # Fill in column 0, from row 1 to row m, both inclusive\n",
        "    for row in range(1,m+1): # Replace None with the proper range\n",
        "        D[row,0] = D[row-1,0] + del_cost\n",
        "        \n",
        "    # Fill in row 0, for all columns from 1 to n, both inclusive\n",
        "    for col in range(1,n+1): # Replace None with the proper range\n",
        "        D[0,col] = D[0,col-1] + ins_cost\n",
        "        \n",
        "    # Loop through row 1 to row m, both inclusive\n",
        "    for row in range(1,m+1): \n",
        "        \n",
        "        # Loop through column 1 to column n, both inclusive\n",
        "        for col in range(1,n+1):\n",
        "            \n",
        "            # Intialize r_cost to the 'replace' cost that is passed into this function\n",
        "            r_cost = rep_cost\n",
        "            \n",
        "            # Check to see if source character at the previous row\n",
        "            # matches the target character at the previous column, \n",
        "            if source[row-1] == target[col-1]:\n",
        "                # Update the replacement cost to 0 if source and target are the same\n",
        "                r_cost = 0\n",
        "                \n",
        "            # Update the cost at row, col based on previous entries in the cost matrix\n",
        "            # Refer to the equation calculate for D[i,j] (the minimum of three calculated costs)\n",
        "            D[row,col] = min([D[row-1,col]+del_cost, D[row,col-1]+ins_cost, D[row-1,col-1]+r_cost])\n",
        "          \n",
        "    # Set the minimum edit distance with the cost found at row m, column n\n",
        "    med = D[m,n]\n",
        "    \n",
        "    ### END CODE HERE ###\n",
        "    return D, med"
      ],
      "execution_count": 23,
      "outputs": []
    },
    {
      "cell_type": "code",
      "metadata": {
        "colab": {
          "base_uri": "https://localhost:8080/"
        },
        "id": "CmBm_QfVQCPt",
        "outputId": "60ac39fb-2df4-443e-d48f-af34b28e13bc"
      },
      "source": [
        "#DO NOT MODIFY THIS CELL\n",
        "# testing your implementation \n",
        "source =  'play'\n",
        "target = 'stay'\n",
        "matrix, min_edits = min_edit_distance(source, target)\n",
        "print(\"minimum edits: \",min_edits, \"\\n\")\n",
        "idx = list('#' + source)\n",
        "cols = list('#' + target)\n",
        "df = pd.DataFrame(matrix, index=idx, columns= cols)\n",
        "print(df)"
      ],
      "execution_count": 24,
      "outputs": [
        {
          "output_type": "stream",
          "name": "stdout",
          "text": [
            "minimum edits:  4 \n",
            "\n",
            "   #  s  t  a  y\n",
            "#  0  1  2  3  4\n",
            "p  1  2  3  4  5\n",
            "l  2  3  4  5  6\n",
            "a  3  4  5  4  5\n",
            "y  4  5  6  5  4\n"
          ]
        }
      ]
    },
    {
      "cell_type": "code",
      "metadata": {
        "colab": {
          "base_uri": "https://localhost:8080/"
        },
        "id": "pjkX6L_jQCPv",
        "outputId": "aafa6d4b-2cc3-4ae5-82a1-666add6c9a05"
      },
      "source": [
        "#DO NOT MODIFY THIS CELL\n",
        "# testing your implementation \n",
        "source =  'eer'\n",
        "target = 'near'\n",
        "matrix, min_edits = min_edit_distance(source, target)\n",
        "print(\"minimum edits: \",min_edits, \"\\n\")\n",
        "idx = list(source)\n",
        "idx.insert(0, '#')\n",
        "cols = list(target)\n",
        "cols.insert(0, '#')\n",
        "df = pd.DataFrame(matrix, index=idx, columns= cols)\n",
        "print(df)"
      ],
      "execution_count": 25,
      "outputs": [
        {
          "output_type": "stream",
          "name": "stdout",
          "text": [
            "minimum edits:  3 \n",
            "\n",
            "   #  n  e  a  r\n",
            "#  0  1  2  3  4\n",
            "e  1  2  1  2  3\n",
            "e  2  3  2  3  4\n",
            "r  3  4  3  4  3\n"
          ]
        }
      ]
    },
    {
      "cell_type": "code",
      "metadata": {
        "id": "SIm85aPfQCPw"
      },
      "source": [
        "source = \"eer\"\n",
        "targets = edit_one_letter(source,allow_switches = False)  #disable switches since min_edit_distance does not include them\n",
        "for t in targets:\n",
        "    _, min_edits = min_edit_distance(source, t,1,1,1)  # set ins, del, sub costs all to one\n",
        "    if min_edits != 1: print(source, t, min_edits)"
      ],
      "execution_count": 26,
      "outputs": []
    },
    {
      "cell_type": "code",
      "metadata": {
        "colab": {
          "base_uri": "https://localhost:8080/"
        },
        "id": "LYp0S76mQCPx",
        "outputId": "74b5d02a-e088-4fa9-a0d9-ad84048f2f42"
      },
      "source": [
        "source = \"eer\"\n",
        "targets = edit_two_letters(source,allow_switches = False) #disable switches since min_edit_distance does not include them\n",
        "for t in targets:\n",
        "    _, min_edits = min_edit_distance(source, t,1,1,1)  # set ins, del, sub costs all to one\n",
        "    if min_edits != 2 and min_edits != 1: print(source, t, min_edits)"
      ],
      "execution_count": 27,
      "outputs": [
        {
          "output_type": "stream",
          "name": "stdout",
          "text": [
            "eer eer 0\n"
          ]
        }
      ]
    },
    {
      "cell_type": "markdown",
      "metadata": {
        "id": "XcfrOmUNQCPz"
      },
      "source": [
        "#### References\n",
        "- Dan Jurafsky - Speech and Language Processing - Textbook\n",
        "- This auto-correct explanation was first done by Peter Norvig in 2007 \n",
        "- Deep Learning.ai"
      ]
    }
  ]
}