{
  "nbformat": 4,
  "nbformat_minor": 0,
  "metadata": {
    "colab": {
      "name": "CosineSimilarity.ipynb",
      "provenance": [],
      "authorship_tag": "ABX9TyMUNke/nG5E3pF5YV/kv6IG",
      "include_colab_link": true
    },
    "kernelspec": {
      "name": "python3",
      "display_name": "Python 3"
    },
    "language_info": {
      "name": "python"
    }
  },
  "cells": [
    {
      "cell_type": "markdown",
      "metadata": {
        "id": "view-in-github",
        "colab_type": "text"
      },
      "source": [
        "<a href=\"https://colab.research.google.com/github/Adeelzafar/NLP-Course/blob/main/CosineSimilarity.ipynb\" target=\"_parent\"><img src=\"https://colab.research.google.com/assets/colab-badge.svg\" alt=\"Open In Colab\"/></a>"
      ]
    },
    {
      "cell_type": "code",
      "metadata": {
        "id": "hUg1zaTK4wLB"
      },
      "source": [
        "ss1 = 'The president greets the press in Chicago'\n",
        "ss2 = 'Obama speaks to the media in Illinois'"
      ],
      "execution_count": 18,
      "outputs": []
    },
    {
      "cell_type": "code",
      "metadata": {
        "id": "8khk4F404yWo"
      },
      "source": [
        "def cosine_distance_countvectorizer_method(s1, s2):\n",
        "    \n",
        "    # sentences to list\n",
        "    allsentences = [s1 , s2]\n",
        "    \n",
        "    # packages\n",
        "    from sklearn.feature_extraction.text import CountVectorizer\n",
        "    from scipy.spatial import distance\n",
        "    \n",
        "    # text to vector\n",
        "    vectorizer = CountVectorizer()\n",
        "    all_sentences_to_vector = vectorizer.fit_transform(allsentences)\n",
        "    text_to_vector_v1 = all_sentences_to_vector.toarray()[0].tolist()\n",
        "    text_to_vector_v2 = all_sentences_to_vector.toarray()[1].tolist()\n",
        "    \n",
        "    # distance of similarity\n",
        "    cosine = distance.cosine(text_to_vector_v1, text_to_vector_v2)\n",
        "    print('Similarity of two sentences are equal to ',round((1-cosine)*100,2),'%')\n",
        "    return cosine"
      ],
      "execution_count": 20,
      "outputs": []
    },
    {
      "cell_type": "code",
      "metadata": {
        "colab": {
          "base_uri": "https://localhost:8080/"
        },
        "id": "IQPqC13K43iE",
        "outputId": "6bdf7e2e-11d9-471f-ff8b-1fbbb40f658b"
      },
      "source": [
        "cosine_distance_countvectorizer_method(ss1 , ss2)"
      ],
      "execution_count": 21,
      "outputs": [
        {
          "output_type": "stream",
          "name": "stdout",
          "text": [
            "Similarity of two sentences are equal to  37.8 %\n"
          ]
        },
        {
          "output_type": "execute_result",
          "data": {
            "text/plain": [
              "0.6220355269907728"
            ]
          },
          "metadata": {},
          "execution_count": 21
        }
      ]
    }
  ]
}